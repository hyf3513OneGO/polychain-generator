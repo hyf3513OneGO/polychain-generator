from rdkit import Chem
from rdkit.Chem import AllChem
import py3Dmol
import os

# 读取SDF文件
result_folder = "results/dev_test-1/task_11_repeat-5_25000_2.0_298.0k_gaff-2.11"
sdf_file = os.path.join(result_folder, "init_chain.sdf")
mol = Chem.MolFromMolFile(sdf_file, removeHs=False)  # 读取保留H

# 去除所有氢原子
mol_noH = Chem.RemoveHs(mol)

# 保留原始构象（因为去H后默认构象仍在）
block = Chem.MolToMolBlock(mol_noH)

# 可视化
view = py3Dmol.view(width=500, height=500)
view.addModel(block, "mol")
view.setStyle({'stick': {}})
view.zoomTo()
view.show()

