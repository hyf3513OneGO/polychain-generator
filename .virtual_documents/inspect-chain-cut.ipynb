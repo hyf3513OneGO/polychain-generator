from rdkit import Chem
from rdkit.Chem import AllChem
import py3Dmol
import os
result_folder = "results/dev_test-1/task_2_repeat-5_25000_2.0_298.0k_gaff-2.11"
sdf_file = os.path.join(result_folder, "relaxed_chain.sdf")
smiles = ""
smiles_path = os.path.join(result_folder,"psmiles.txt")
with open(smiles_path,"r") as f:
    smiles = f.readline()
mol_H  = Chem.MolFromMolFile(sdf_file, removeHs=False)  # 保留H
mol_noH = Chem.RemoveHs(mol_H, updateExplicitCount=True)



from rdkit import Chem
from rdkit.Chem import Draw
from rdkit.Chem.Draw import rdMolDraw2D
from PIL import Image
from io import BytesIO

def visualize_monomer_matches_from_matches(mol_H, matches, max_matches=10):
    """
    给定聚合物分子 mol_H 和已知匹配原子编号列表 matches，进行可视化。
    每个匹配高亮不同颜色，并标注原子编号。
    """
    print(f"输入匹配数: {len(matches)}")

    if not matches:
        return None

    matches = matches[:max_matches]

    # 配置颜色
    highlight_atoms = []
    highlight_atom_map = {}
    colors = [(1.0, 0.3, 0.3), (0.3, 0.3, 1.0), (0.2, 0.6, 0.2),
              (0.8, 0.5, 0.0), (0.5, 0.0, 0.8), (0.8, 0.8, 0.0),
              (0.0, 0.6, 0.6), (0.6, 0.0, 0.6), (0.6, 0.3, 0.1)]

    for i, match in enumerate(matches):
        c = colors[i % len(colors)]
        for idx in match:
            highlight_atoms.append(idx)
            highlight_atom_map[idx] = c
            mol_H.GetAtomWithIdx(idx).SetProp("atomNote", str(idx))  # 可显示编号

    # 绘图
    drawer = rdMolDraw2D.MolDraw2DCairo(600, 400)
    drawer.DrawMolecule(
        mol_H,
        highlightAtoms=highlight_atoms,
        highlightAtomColors=highlight_atom_map
    )
    drawer.FinishDrawing()
    img_data = drawer.GetDrawingText()
    return Image.open(BytesIO(img_data))


from utils.monomer_utils import extract_monomers
filled_index_clean, matches_H, matches_with_H = extract_monomers(sdf_file,smiles)
print(filled_index_clean, matches_H, matches_with_H)


img = visualize_monomer_matches_from_matches(mol_H, matches_H)
if img:
    img.show()


img = visualize_monomer_matches_from_matches(mol_H, matches_with_H)
if img:
    img.show()


import os
from rdkit import Chem

def extract_submol_by_atoms(mol, atom_indices):
    """
    从mol中提取由atom_indices指定的子分子（包括键），保留3D构象。
    """
    # 创建原子掩码
    amap = {}
    for i, idx in enumerate(atom_indices):
        amap[idx] = i

    # 创建新分子
    emol = Chem.RWMol()
    for idx in atom_indices:
        atom = mol.GetAtomWithIdx(idx)
        new_atom = Chem.Atom(atom.GetAtomicNum())
        emol.AddAtom(new_atom)

    bond_set = set()
    for bond in mol.GetBonds():
        begin_idx = bond.GetBeginAtomIdx()
        end_idx = bond.GetEndAtomIdx()
        if begin_idx in amap and end_idx in amap:
            bond_type = bond.GetBondType()
            emol.AddBond(amap[begin_idx], amap[end_idx], bond_type)
            bond_set.add((amap[begin_idx], amap[end_idx]))

    submol = emol.GetMol()

    # 添加构象信息
    conf = mol.GetConformer()
    sub_conf = Chem.Conformer(len(atom_indices))
    for i, idx in enumerate(atom_indices):
        pos = conf.GetAtomPosition(idx)
        sub_conf.SetAtomPosition(i, pos)
    submol.RemoveAllConformers()
    submol.AddConformer(sub_conf)

    return submol


def save_monomers_to_sdf(mol_H, matches_with_H, output_dir):
    os.makedirs(output_dir, exist_ok=True)
    for i, atom_indices in enumerate(matches_with_H):
        atom_indices = sorted(atom_indices)
        submol = extract_submol_by_atoms(mol_H, atom_indices)
        writer = Chem.SDWriter(os.path.join(output_dir, f'monomer_{i}.sdf'))
        writer.write(submol)
        writer.close()
monomer_dir = os.path.join(result_folder,"monomers")
save_monomers_to_sdf(mol_H, matches_with_H, monomer_dir)


import numpy as np
from rdkit import Chem
from rdkit.Chem import AllChem
def load_mols_from_files(file_list):
    mols = []
    for f in file_list:
        mol = Chem.MolFromMolFile(f, removeHs=False)
        if mol is None:
            raise ValueError(f"Failed to load: {f}")
        if not mol.GetNumConformers():
            # 构象缺失则使用RDKit生成一个
            AllChem.EmbedMolecule(mol)
        mols.append(mol)
    return mols


def compute_pairwise_rmsd(mols):
    n = len(mols)
    rmsd_matrix = np.zeros((n, n))
    for i in range(n):
        for j in range(i + 1, n):
            # 复制 mol[j] 并对齐到 mol[i]
            mol_i = mols[i]
            mol_j = Chem.Mol(mols[j])
            AllChem.AlignMol(mol_j, mol_i)
            conf_i = mol_i.GetConformer()
            conf_j = mol_j.GetConformer()
            rmsd = AllChem.GetBestRMS(mol_i, mol_j)
            rmsd_matrix[i, j] = rmsd
            rmsd_matrix[j, i] = rmsd
    return rmsd_matrix
files = [os.path.join(monomer_dir,f"monomer_{i}.sdf")for i in range(1,4)]
mols = load_mols_from_files(files)
rmsd_matrix = compute_pairwise_rmsd(mols)

print("RMSD matrix:\n", np.round(rmsd_matrix, 3))


from rdkit import Chem
from rdkit.Chem import AllChem
import numpy as np

def compute_rmsd_matrix_heavy(mols):
    def heavy_indices(mol):
        return [i for i, atom in enumerate(mol.GetAtoms()) if atom.GetAtomicNum() > 1]

    n = len(mols)
    rmsd_mat = np.zeros((n, n))
    for i in range(n):
        for j in range(i + 1, n):
            hi = heavy_indices(mols[i])
            hj = heavy_indices(mols[j])
            if len(hi) != len(hj):
                raise ValueError(f"Heavy atom count mismatch: mol {i} has {len(hi)}, mol {j} has {len(hj)}")
            # 强制转换为标准 Python list of tuples
            atomMap = [(int(a), int(b)) for a, b in zip(hi, hj)]
            rmsd = AllChem.GetBestRMS(mols[i], mols[j], map=atomMap)
            rmsd_mat[i, j] = rmsd
            rmsd_mat[j, i] = rmsd
    return rmsd_mat

print("RMSD matrix:\n", np.round(rmsd_matrix, 3))


def overlay_monomers(mols):
    import py3Dmol
    viewer = py3Dmol.view(width=800, height=600)
    for i, mol in enumerate(mols):
        block = Chem.MolToMolBlock(mol)
        viewer.addModel(block, 'mol')
        viewer.setStyle({'model': i}, {'stick': {}})
    viewer.zoomTo()
    return viewer.show()
overlay_monomers(mols)
