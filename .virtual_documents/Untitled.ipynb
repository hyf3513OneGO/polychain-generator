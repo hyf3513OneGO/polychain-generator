from rdkit import Chem
from rdkit.Chem import AllChem
import py3Dmol
import os
result_folder = "results/dev_test-1/task_12_repeat-5_25000_2.0_298.0k_gaff-2.11"
sdf_file = os.path.join(result_folder, "init_chain.sdf")
smiles = ""
smiles_path = os.path.join(result_folder,"psmiles.txt")
with open(smiles_path,"r") as f:
    smiles = f.readline()
mol_H  = Chem.MolFromMolFile(sdf_file, removeHs=False)  # 保留H
mol_noH = Chem.RemoveHs(mol_H, updateExplicitCount=True)



map_noH_to_H = {}  # noH idx -> H idx
atoms_H = mol_H.GetAtoms()
atoms_noH = mol_noH.GetAtoms()

i_h = 0
for i_noh, a_noh in enumerate(atoms_noH):
    while i_h < len(atoms_H):
        if atoms_H[i_h].GetAtomicNum() == a_noh.GetAtomicNum():
            map_noH_to_H[i_noh] = i_h
            i_h += 1
            break
        i_h += 1


print(map_noH_to_H)


from utils.monomer_utils import remove_star_atoms
keypoint_list,processed_mol,processed_smi = remove_star_atoms(smiles)
print(smiles,processed_mol.GetAtoms()[keypoint_list[0]].GetAtomicNum())
